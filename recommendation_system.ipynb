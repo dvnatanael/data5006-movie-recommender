{
 "cells": [
  {
   "cell_type": "code",
   "execution_count": null,
   "id": "33c61e7e",
   "metadata": {},
   "outputs": [],
   "source": [
    "import pandas as pd\n",
    "import streamlit as st\n",
    "\n",
    "from constants import SECONDS_IN_A_DAY"
   ]
  },
  {
   "cell_type": "code",
   "execution_count": null,
   "id": "e83b6527",
   "metadata": {},
   "outputs": [],
   "source": [
    "@st.cache(ttl=SECONDS_IN_A_DAY, show_spinner=False)\n",
    "def user_item_interactions_matrix(df: pd.DataFrame) -> pd.DataFrame:\n",
    "    def damp_mean_ratings(df: pd.DataFrame) -> pd.Series:\n",
    "        return df[\"num_ratings\"] * df[\"mean_rating\"] / (df[\"num_ratings\"] + 4)\n",
    "\n",
    "    def mean_center_ratings(df: pd.DataFrame) -> pd.Series:\n",
    "        return df[\"rating\"] - df[\"damped_mean_rating\"]\n",
    "\n",
    "    df_statistics = (\n",
    "        df.groupby(\"movieId\")\n",
    "        .agg(\n",
    "            num_ratings=pd.NamedAgg(column=\"rating\", aggfunc=len),\n",
    "            mean_rating=pd.NamedAgg(column=\"rating\", aggfunc=\"mean\"),\n",
    "        )\n",
    "        .assign(damped_mean_rating=damp_mean_ratings)\n",
    "    )\n",
    "    return (\n",
    "        df.join(df_statistics, on=\"movieId\")\n",
    "        .assign(mean_centered_rating=mean_center_ratings)\n",
    "        .pivot(index=\"userId\", columns=\"movieId\", values=\"mean_centered_rating\")\n",
    "        .fillna(0)\n",
    "    )"
   ]
  },
  {
   "cell_type": "code",
   "execution_count": null,
   "id": "7ef7f799",
   "metadata": {},
   "outputs": [],
   "source": [
    "@st.cache(ttl=SECONDS_IN_A_DAY, show_spinner=False)\n",
    "def item_genre_interactions_matrix(df: pd.DataFrame) -> pd.DataFrame:\n",
    "    return (\n",
    "        df.loc[:, [\"movieId\", \"genres\"]]\n",
    "        .drop_duplicates(keep=\"first\", ignore_index=True)\n",
    "        .assign(genres=lambda x: x[\"genres\"].str.split(\"|\"))\n",
    "        .explode(\"genres\")\n",
    "        .pivot(values=\"genres\", index=\"movieId\", columns=\"genres\")\n",
    "        .notnull()\n",
    "        .astype(\"int\")\n",
    "        .T\n",
    "    )"
   ]
  },
  {
   "cell_type": "code",
   "execution_count": null,
   "id": "b7ea86d0",
   "metadata": {},
   "outputs": [],
   "source": [
    "@st.cache(ttl=SECONDS_IN_A_DAY, show_spinner=False)\n",
    "def correlation_matrix(df: pd.DataFrame) -> pd.DataFrame:\n",
    "    return df.corr()"
   ]
  },
  {
   "cell_type": "code",
   "execution_count": null,
   "id": "3b2b37fb",
   "metadata": {},
   "outputs": [],
   "source": [
    "@st.cache(ttl=300, show_spinner=False)\n",
    "def get_recommendations(title: str, user_movie_df: pd.DataFrame) -> pd.DataFrame:\n",
    "    # get corresponding movie id\n",
    "    movie_id = (\n",
    "        user_movie_df.query(\"title == @title\")[\"movieId\"].drop_duplicates().squeeze()\n",
    "    )\n",
    "\n",
    "    # show movie info\n",
    "    user_movie_utility_matrix = user_item_interactions_matrix(user_movie_df)\n",
    "    genre_movie_utility_matrix = item_genre_interactions_matrix(user_movie_df)\n",
    "\n",
    "    # corr between 2 cols may be NA; mwe: [[0, 0], [0, 0]]\n",
    "    user_movie_corr_df = correlation_matrix(user_movie_utility_matrix).fillna(0)\n",
    "    genre_movie_corr_df = correlation_matrix(genre_movie_utility_matrix)\n",
    "\n",
    "    alpha = 0.2\n",
    "    corr_df = user_movie_corr_df + alpha * (genre_movie_corr_df - user_movie_corr_df)\n",
    "    return (\n",
    "        corr_df.loc[:, [movie_id]]\n",
    "        .drop(index=movie_id)  # do not recommend the selected movie\n",
    "        .sort_values(by=movie_id, ascending=False)  # type: ignore\n",
    "    )"
   ]
  }
 ],
 "metadata": {
  "jupytext": {
   "cell_metadata_filter": "-all",
   "formats": "ipynb,py:percent",
   "main_language": "python",
   "notebook_metadata_filter": "-kernelspec"
  }
 },
 "nbformat": 4,
 "nbformat_minor": 5
}
