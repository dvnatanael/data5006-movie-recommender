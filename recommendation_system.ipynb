{
 "cells": [
  {
   "cell_type": "code",
   "execution_count": null,
   "id": "33c61e7e",
   "metadata": {},
   "outputs": [],
   "source": [
    "import os\n",
    "\n",
    "import pandas as pd\n",
    "import streamlit as st\n",
    "import tensorflow_probability as tfp\n",
    "\n",
    "from constants import SECONDS_IN_A_DAY"
   ]
  },
  {
   "cell_type": "code",
   "execution_count": null,
   "id": "e83b6527",
   "metadata": {},
   "outputs": [],
   "source": [
    "@st.cache(ttl=SECONDS_IN_A_DAY, show_spinner=False)\n",
    "def mean_center_ratings(df: pd.DataFrame) -> pd.Series:\n",
    "    def damp_mean_ratings(df: pd.DataFrame) -> pd.Series:\n",
    "        return df[\"num_ratings\"] * df[\"mean_rating\"] / (df[\"num_ratings\"] + 4)\n",
    "\n",
    "    damped_mean_rating = (\n",
    "        df.groupby(\"movieId\")\n",
    "        .agg(\n",
    "            num_ratings=pd.NamedAgg(column=\"rating\", aggfunc=len),\n",
    "            mean_rating=pd.NamedAgg(column=\"rating\", aggfunc=\"mean\"),\n",
    "        )\n",
    "        .pipe(damp_mean_ratings)\n",
    "        .astype(\"float32\")\n",
    "        .to_frame(name=\"damped_mean_rating\")\n",
    "        .merge(df, how=\"right\", left_index=True, right_on=\"movieId\")\n",
    "        .loc[:, \"damped_mean_rating\"]\n",
    "    )\n",
    "    return df[\"rating\"] - damped_mean_rating"
   ]
  },
  {
   "cell_type": "code",
   "execution_count": null,
   "id": "35bdbd7e",
   "metadata": {},
   "outputs": [],
   "source": [
    "@st.cache(ttl=SECONDS_IN_A_DAY, show_spinner=False)\n",
    "def user_item_interactions_matrix(df: pd.DataFrame) -> pd.DataFrame:\n",
    "    return (\n",
    "        df.assign(mean_centered_rating=mean_center_ratings)\n",
    "        .pivot(index=\"userId\", columns=\"movieId\", values=\"mean_centered_rating\")\n",
    "        .fillna(0)\n",
    "    )"
   ]
  },
  {
   "cell_type": "code",
   "execution_count": null,
   "id": "7ef7f799",
   "metadata": {},
   "outputs": [],
   "source": [
    "@st.cache(ttl=SECONDS_IN_A_DAY, show_spinner=False)\n",
    "def item_genre_interactions_matrix(df: pd.DataFrame) -> pd.DataFrame:\n",
    "    return (\n",
    "        df.loc[:, [\"movieId\", \"genres\"]]\n",
    "        .drop_duplicates(keep=\"first\", ignore_index=True)\n",
    "        .assign(genres=lambda x: x[\"genres\"].str.split(\"|\"))\n",
    "        .explode(\"genres\")\n",
    "        .pivot(values=\"genres\", index=\"movieId\", columns=\"genres\")\n",
    "        .notnull()\n",
    "        .astype(\"uint8\")\n",
    "        .T\n",
    "    )"
   ]
  },
  {
   "cell_type": "code",
   "execution_count": null,
   "id": "b7ea86d0",
   "metadata": {},
   "outputs": [],
   "source": [
    "@st.cache(ttl=SECONDS_IN_A_DAY, show_spinner=False)\n",
    "def correlation_matrix(df: pd.DataFrame) -> pd.DataFrame:\n",
    "    corr = tfp.stats.correlation(df.to_numpy(dtype=\"float16\"))\n",
    "    return pd.DataFrame(corr, columns=df.columns, index=df.columns)"
   ]
  },
  {
   "cell_type": "code",
   "execution_count": null,
   "id": "7425e668",
   "metadata": {},
   "outputs": [],
   "source": [
    "@st.cache(ttl=SECONDS_IN_A_DAY, show_spinner=False)\n",
    "def load_dataset(path: str) -> dict[str, pd.DataFrame]:\n",
    "    def read_csv(filename: str) -> pd.DataFrame:\n",
    "        return pd.read_csv(os.path.join(path, filename))\n",
    "\n",
    "    ratings_df = read_csv(\"ratings.csv\")\n",
    "    movies_df = read_csv(\"movies.csv\")\n",
    "    tags_df = read_csv(\"tags.csv\")\n",
    "    links_df = read_csv(\"links.csv\")\n",
    "\n",
    "    # convert unix timestamps to datetime\n",
    "    ratings_df[\"timestamp\"] = pd.to_datetime(ratings_df[\"timestamp\"], unit=\"s\")\n",
    "    tags_df[\"timestamp\"] = pd.to_datetime(tags_df[\"timestamp\"], unit=\"s\")\n",
    "\n",
    "    ratings_df[\"rating\"] = ratings_df[\"rating\"].astype(\"float32\")\n",
    "\n",
    "    movie_titles_df = movies_df[\"title\"].squeeze().sort_values()  # type: ignore\n",
    "    user_movie_df = pd.merge(ratings_df, movies_df, on=\"movieId\")\n",
    "\n",
    "    return {\n",
    "        \"ratings\": ratings_df,\n",
    "        \"movies\": movies_df,\n",
    "        \"links\": links_df,\n",
    "        \"tags\": tags_df,\n",
    "        \"movie titles\": movie_titles_df,\n",
    "        \"user movie interactions\": user_movie_df,\n",
    "    }"
   ]
  },
  {
   "cell_type": "code",
   "execution_count": null,
   "id": "3b2b37fb",
   "metadata": {},
   "outputs": [],
   "source": [
    "# @st.cache(ttl=300, show_spinner=False)\n",
    "def get_recommendations(title: str, user_movie_df: pd.DataFrame) -> pd.DataFrame:\n",
    "    # get corresponding movie id\n",
    "    movie_id = (\n",
    "        user_movie_df.query(\"title == @title\")[\"movieId\"].drop_duplicates().squeeze()\n",
    "    )\n",
    "\n",
    "    # calculate interaction matrices\n",
    "    user_movie_utility_matrix = user_item_interactions_matrix(user_movie_df)\n",
    "    genre_movie_utility_matrix = item_genre_interactions_matrix(user_movie_df)\n",
    "\n",
    "    # corr between 2 cols may be NA; mwe: [[0, 0], [0, 0]]\n",
    "    user_movie_corr_df = correlation_matrix(user_movie_utility_matrix).fillna(0)\n",
    "    genre_movie_corr_df = correlation_matrix(genre_movie_utility_matrix)\n",
    "\n",
    "    # relative importance of genre correlation compared to user rating correlation\n",
    "    alpha = 0.2\n",
    "    corr_df = user_movie_corr_df + alpha * (genre_movie_corr_df - user_movie_corr_df)\n",
    "    return (\n",
    "        corr_df.loc[:, [movie_id]]\n",
    "        .drop(index=movie_id)  # do not recommend the selected movie\n",
    "        .sort_values(by=movie_id, ascending=False)  # type: ignore\n",
    "    )"
   ]
  }
 ],
 "metadata": {
  "jupytext": {
   "cell_metadata_filter": "-all",
   "formats": "ipynb,py:percent",
   "main_language": "python",
   "notebook_metadata_filter": "-kernelspec"
  }
 },
 "nbformat": 4,
 "nbformat_minor": 5
}
