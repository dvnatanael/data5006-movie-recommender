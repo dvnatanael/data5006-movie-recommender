{
 "cells": [
  {
   "cell_type": "code",
   "execution_count": null,
   "id": "483aa84f",
   "metadata": {},
   "outputs": [],
   "source": [
    "import pandas as pd\n",
    "import streamlit as st\n",
    "\n",
    "from constants import SECONDS_IN_A_DAY"
   ]
  },
  {
   "cell_type": "code",
   "execution_count": null,
   "id": "20a9bf2e",
   "metadata": {},
   "outputs": [],
   "source": [
    "@st.cache(ttl=SECONDS_IN_A_DAY)\n",
    "def user_item_interactions_matrix(df: pd.DataFrame) -> pd.DataFrame:\n",
    "    def damp_mean_ratings(df: pd.DataFrame) -> pd.Series:\n",
    "        return df[\"num_ratings\"] * df[\"mean_rating\"] / (df[\"num_ratings\"] + 4)\n",
    "\n",
    "    def mean_center_ratings(df: pd.DataFrame) -> pd.Series:\n",
    "        return df[\"rating\"] - df[\"damped_mean_rating\"]\n",
    "\n",
    "    df_statistics = (\n",
    "        df.groupby(\"movieId\")\n",
    "        .agg(\n",
    "            num_ratings=pd.NamedAgg(column=\"rating\", aggfunc=len),\n",
    "            mean_rating=pd.NamedAgg(column=\"rating\", aggfunc=\"mean\"),\n",
    "        )\n",
    "        .assign(damped_mean_rating=damp_mean_ratings)\n",
    "    )\n",
    "    return (\n",
    "        df.join(df_statistics, on=\"movieId\")\n",
    "        .assign(mean_centered_rating=mean_center_ratings)\n",
    "        .pivot(index=\"userId\", columns=\"movieId\", values=\"mean_centered_rating\")\n",
    "        .fillna(0)\n",
    "    )"
   ]
  },
  {
   "cell_type": "code",
   "execution_count": null,
   "id": "7c561c4a",
   "metadata": {},
   "outputs": [],
   "source": [
    "@st.cache(ttl=SECONDS_IN_A_DAY)\n",
    "def item_genre_interactions_matrix(df: pd.DataFrame) -> pd.DataFrame:\n",
    "    return (\n",
    "        df.loc[:, [\"movieId\", \"genres\"]]\n",
    "        .drop_duplicates(keep=\"first\", ignore_index=True)\n",
    "        .assign(genres=lambda x: x[\"genres\"].str.split(\"|\"))\n",
    "        .explode(\"genres\")\n",
    "        .pivot(values=\"genres\", index=\"movieId\", columns=\"genres\")\n",
    "        .notnull()\n",
    "        .astype(\"int\")\n",
    "        .T\n",
    "    )"
   ]
  },
  {
   "cell_type": "code",
   "execution_count": null,
   "id": "aad8e6a1",
   "metadata": {},
   "outputs": [],
   "source": [
    "@st.cache(ttl=SECONDS_IN_A_DAY)\n",
    "def correlation_matrix(df: pd.DataFrame) -> pd.DataFrame:\n",
    "    return df.corr()"
   ]
  }
 ],
 "metadata": {
  "jupytext": {
   "cell_metadata_filter": "-all",
   "formats": "ipynb,py:percent",
   "main_language": "python",
   "notebook_metadata_filter": "-kernelspec"
  },
  "kernelspec": {
   "display_name": "Python 3.10.8 ('2022f_data5006_movie_recommender')",
   "language": "python",
   "name": "python3"
  },
  "language_info": {
   "name": "python"
  },
  "vscode": {
   "interpreter": {
    "hash": "b973323e0a4211eeaeab38acd540646dcb7aff6b80290a0799cc98102675c628"
   }
  }
 },
 "nbformat": 4,
 "nbformat_minor": 5
}
