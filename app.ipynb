{
 "cells": [
  {
   "cell_type": "code",
   "execution_count": null,
   "id": "7e80949e",
   "metadata": {},
   "outputs": [],
   "source": [
    "import os\n",
    "\n",
    "import pandas as pd\n",
    "import requests\n",
    "import streamlit as st\n",
    "from dotenv import load_dotenv\n",
    "\n",
    "from recommendation_system import get_recommendations, load_dataset"
   ]
  },
  {
   "cell_type": "code",
   "execution_count": null,
   "id": "d25a98a8",
   "metadata": {},
   "outputs": [],
   "source": [
    "def fetch_movie_info(movie_id: int, links_df: pd.DataFrame, omdb_api_key: str) -> dict:\n",
    "    # get the imdb_id for the given movid_id\n",
    "    imdb_id = links_df.query(\"movieId == @movie_id\")[\"imdbId\"].squeeze()\n",
    "    imdb_id = f\"tt{imdb_id:07d}\"\n",
    "\n",
    "    # get the movie information from the OMDB API\n",
    "    imdb_url = f\"http://www.omdbapi.com/?apikey={omdb_api_key}&i={imdb_id}\"\n",
    "    return requests.get(imdb_url).json()"
   ]
  },
  {
   "cell_type": "code",
   "execution_count": null,
   "id": "f68dd67a",
   "metadata": {},
   "outputs": [],
   "source": [
    "def show_movie_info(movie_info: dict) -> None:\n",
    "    poster_container, plot_container = st.columns([1, 2])\n",
    "\n",
    "    with poster_container:\n",
    "        st.image(movie_info[\"Poster\"])\n",
    "\n",
    "    with plot_container:\n",
    "        st.subheader(movie_info[\"Title\"])\n",
    "\n",
    "        # streamlit write magic\n",
    "        f\"Released: {movie_info['Released']}\"\n",
    "        f\"Duration: {movie_info['Runtime']}\"\n",
    "        movie_info[\"Plot\"]"
   ]
  },
  {
   "cell_type": "code",
   "execution_count": null,
   "id": "aff10917",
   "metadata": {},
   "outputs": [],
   "source": [
    "def main(omdb_api_key: str, *, data_dir: str | None = None) -> None:\n",
    "    if data_dir is None:\n",
    "        data_dir = os.path.join(\".\", \"data\", \"ml-latest-small\")\n",
    "\n",
    "    # load the data\n",
    "    dataset = load_dataset(data_dir)\n",
    "    links_df = dataset[\"links\"]\n",
    "    movie_titles_df = dataset[\"movie titles\"]\n",
    "    user_movie_df = dataset[\"user movie interactions\"]\n",
    "\n",
    "    # create website layout\n",
    "    header = st.container()\n",
    "    body = st.container()\n",
    "\n",
    "    with header:\n",
    "        st.title(\"Pick Me A Movie\")\n",
    "\n",
    "    with body:\n",
    "        # select movie\n",
    "        movie: str = st.selectbox(\n",
    "            label=\"Select a Movie\",\n",
    "            options=movie_titles_df,\n",
    "        )  # type: ignore\n",
    "\n",
    "        with st.spinner(\"`Getting recommendations...`\"):\n",
    "            recommendations = get_recommendations(movie, user_movie_df)\n",
    "\n",
    "        # show the top 5 recommendations\n",
    "        max_recommendations = 5\n",
    "        recommendation_count = 0\n",
    "        for movie_id in recommendations.index:\n",
    "            if recommendation_count == max_recommendations:\n",
    "                break\n",
    "\n",
    "            movie_info = fetch_movie_info(movie_id, links_df, omdb_api_key)\n",
    "            if movie_info[\"Response\"] == \"True\":\n",
    "                show_movie_info(movie_info)\n",
    "                recommendation_count += 1"
   ]
  },
  {
   "cell_type": "code",
   "execution_count": null,
   "id": "e124412e",
   "metadata": {},
   "outputs": [],
   "source": [
    "if __name__ == \"__main__\":\n",
    "    # load environment variables\n",
    "    load_dotenv()\n",
    "    omdb_api_key = os.getenv(\"OMDB_API_KEY\")\n",
    "\n",
    "    if omdb_api_key is None:\n",
    "        raise ValueError(\".env must contain OMDB_API_KEY\")\n",
    "\n",
    "    # download and extract the dataset if needed\n",
    "    src_url = \"https://files.grouplens.org/datasets/movielens/ml-latest-small.zip\"\n",
    "    data_dir = os.path.join(os.curdir, \"data\")\n",
    "    if not (os.path.isdir(data_dir) and len(os.listdir(data_dir))):\n",
    "        from fetch_dataset import download_and_extract\n",
    "\n",
    "        download_and_extract(src_url, data_dir)\n",
    "\n",
    "    main(omdb_api_key)"
   ]
  }
 ],
 "metadata": {
  "jupytext": {
   "cell_metadata_filter": "-all",
   "formats": "ipynb,py:percent",
   "main_language": "python",
   "notebook_metadata_filter": "-kernelspec"
  },
  "kernelspec": {
   "display_name": "Python 3.10.8 ('2022f_data5006_movie_recommender')",
   "language": "python",
   "name": "python3"
  },
  "language_info": {
   "name": "python"
  },
  "vscode": {
   "interpreter": {
    "hash": "b973323e0a4211eeaeab38acd540646dcb7aff6b80290a0799cc98102675c628"
   }
  }
 },
 "nbformat": 4,
 "nbformat_minor": 5
}
