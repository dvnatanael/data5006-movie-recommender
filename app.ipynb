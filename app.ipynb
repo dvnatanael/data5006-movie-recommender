{
 "cells": [
  {
   "cell_type": "code",
   "execution_count": null,
   "id": "7e80949e",
   "metadata": {},
   "outputs": [],
   "source": [
    "import os\n",
    "\n",
    "import pandas as pd\n",
    "import requests\n",
    "import streamlit as st\n",
    "from dotenv import load_dotenv\n",
    "\n",
    "from constants import SECONDS_IN_A_DAY\n",
    "from recommendation_system import get_recommendations"
   ]
  },
  {
   "cell_type": "code",
   "execution_count": null,
   "id": "76ca6f91",
   "metadata": {},
   "outputs": [],
   "source": [
    "@st.cache(ttl=SECONDS_IN_A_DAY, show_spinner=False)\n",
    "def load_dataset(path: str) -> tuple:\n",
    "    def read_csv(filename: str) -> pd.DataFrame:\n",
    "        return pd.read_csv(os.path.join(path, filename))\n",
    "\n",
    "    ratings_df = read_csv(\"ratings.csv\")\n",
    "    movies_df = read_csv(\"movies.csv\")\n",
    "    tags_df = read_csv(\"tags.csv\")\n",
    "    links_df = read_csv(\"links.csv\")\n",
    "\n",
    "    # convert unix timestamps to datetime\n",
    "    ratings_df[\"timestamp\"] = pd.to_datetime(ratings_df[\"timestamp\"], unit=\"s\")\n",
    "    tags_df[\"timestamp\"] = pd.to_datetime(tags_df[\"timestamp\"], unit=\"s\")\n",
    "\n",
    "    return ratings_df, movies_df, links_df, tags_df"
   ]
  },
  {
   "cell_type": "code",
   "execution_count": null,
   "id": "d25a98a8",
   "metadata": {},
   "outputs": [],
   "source": [
    "def fetch_movie_info(movie_id: int, links_df: pd.DataFrame, omdb_api_key: str) -> dict:\n",
    "    imdb_id = links_df.query(\"movieId == @movie_id\")[\"imdbId\"].squeeze()\n",
    "    imdb_url = f\"http://www.omdbapi.com/?i=tt{imdb_id:07d}&apikey={omdb_api_key}\"\n",
    "\n",
    "    return requests.get(imdb_url).json()"
   ]
  },
  {
   "cell_type": "code",
   "execution_count": null,
   "id": "f68dd67a",
   "metadata": {},
   "outputs": [],
   "source": [
    "def show_movie_info(movie_info: dict) -> None:\n",
    "    poster_container, plot_container = st.columns([1, 2])\n",
    "    with poster_container:\n",
    "        st.image(movie_info[\"Poster\"])\n",
    "    with plot_container:\n",
    "        st.subheader(movie_info[\"Title\"])\n",
    "\n",
    "        # streamlit write magic\n",
    "        f\"Released: {movie_info['Released']}\"\n",
    "        f\"Duration: {movie_info['Runtime']}\"\n",
    "        movie_info[\"Plot\"]"
   ]
  },
  {
   "cell_type": "code",
   "execution_count": null,
   "id": "aff10917",
   "metadata": {},
   "outputs": [],
   "source": [
    "def main(omdb_api_key: str) -> None:\n",
    "    data_dir = os.path.join(\".\", \"data\", \"ml-latest-small\")\n",
    "\n",
    "    # load the data\n",
    "    ratings_df, movies_df, links_df, tags_df = load_dataset(data_dir)\n",
    "    movie_titles_df = movies_df[\"title\"].squeeze().sort_values()\n",
    "    user_movie_df = pd.merge(ratings_df, movies_df, on=\"movieId\")\n",
    "\n",
    "    # create website layout\n",
    "    header = st.container()\n",
    "    body = st.container()\n",
    "\n",
    "    with header:\n",
    "        st.title(\"Premiere Movies Catered Just for You\")\n",
    "\n",
    "    with body:\n",
    "        # select movies\n",
    "        movie: str = st.selectbox(\n",
    "            label=\"Select a Movie\",\n",
    "            options=movie_titles_df,\n",
    "        )  # type: ignore\n",
    "\n",
    "        recommendations = get_recommendations(movie, user_movie_df)\n",
    "\n",
    "        recommendation_count = 0\n",
    "        for movie_id in recommendations.index:\n",
    "            if recommendation_count == 5:\n",
    "                break\n",
    "\n",
    "            movie_info = fetch_movie_info(movie_id, links_df, omdb_api_key)\n",
    "            if movie_info[\"Response\"] == \"True\":\n",
    "                show_movie_info(movie_info)\n",
    "                recommendation_count += 1"
   ]
  },
  {
   "cell_type": "code",
   "execution_count": null,
   "id": "e124412e",
   "metadata": {},
   "outputs": [],
   "source": [
    "if __name__ == \"__main__\":\n",
    "    load_dotenv()\n",
    "    omdb_api_key = os.getenv(\"OMDB_API_KEY\")\n",
    "    if omdb_api_key is None:\n",
    "        raise ValueError(\".env must contain OMDB_API_KEY\")\n",
    "\n",
    "    src_url = \"https://files.grouplens.org/datasets/movielens/ml-latest-small.zip\"\n",
    "    data_dir = os.path.join(os.curdir, \"data\")\n",
    "    if not (os.path.isdir(data_dir) and len(os.listdir(data_dir))):\n",
    "        from fetch_dataset import download_and_extract\n",
    "\n",
    "        download_and_extract(src_url, data_dir)\n",
    "\n",
    "    main(omdb_api_key)"
   ]
  }
 ],
 "metadata": {
  "jupytext": {
   "cell_metadata_filter": "-all",
   "formats": "ipynb,py:percent",
   "main_language": "python",
   "notebook_metadata_filter": "-kernelspec"
  },
  "kernelspec": {
   "display_name": "Python 3.10.8 ('2022f_data5006_movie_recommender')",
   "language": "python",
   "name": "python3"
  },
  "language_info": {
   "name": "python"
  },
  "vscode": {
   "interpreter": {
    "hash": "b973323e0a4211eeaeab38acd540646dcb7aff6b80290a0799cc98102675c628"
   }
  }
 },
 "nbformat": 4,
 "nbformat_minor": 5
}
